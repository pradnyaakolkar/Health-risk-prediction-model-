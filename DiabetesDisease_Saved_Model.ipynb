{
 "cells": [
  {
   "cell_type": "code",
   "execution_count": null,
   "metadata": {
    "id": "CNqu38lLc1ls"
   },
   "outputs": [],
   "source": [
    "# Diabetes Risk Prediction"
   ]
  },
  {
   "cell_type": "code",
   "execution_count": 6,
   "metadata": {
    "executionInfo": {
     "elapsed": 299,
     "status": "ok",
     "timestamp": 1746047465138,
     "user": {
      "displayName": "Rutuja Chaudhari",
      "userId": "10535511395277767745"
     },
     "user_tz": -330
    },
    "id": "7CiaSkvcc3gg"
   },
   "outputs": [],
   "source": [
    "import pandas as pd\n",
    "import numpy as np\n",
    "from sklearn.model_selection import train_test_split\n",
    "from sklearn.preprocessing import StandardScaler\n",
    "from sklearn.ensemble import GradientBoostingClassifier\n",
    "from sklearn.linear_model import LogisticRegression\n",
    "from sklearn.neighbors import KNeighborsClassifier\n",
    "from sklearn.metrics import classification_report"
   ]
  },
  {
   "cell_type": "code",
   "execution_count": 4,
   "metadata": {
    "executionInfo": {
     "elapsed": 25,
     "status": "ok",
     "timestamp": 1746047375021,
     "user": {
      "displayName": "Rutuja Chaudhari",
      "userId": "10535511395277767745"
     },
     "user_tz": -330
    },
    "id": "aLagXt7Jc_6T"
   },
   "outputs": [],
   "source": [
    "df = pd.read_csv('Diabetes_Dataset.csv')\n"
   ]
  },
  {
   "cell_type": "code",
   "execution_count": 5,
   "metadata": {
    "colab": {
     "base_uri": "https://localhost:8080/"
    },
    "executionInfo": {
     "elapsed": 100,
     "status": "ok",
     "timestamp": 1746047402179,
     "user": {
      "displayName": "Rutuja Chaudhari",
      "userId": "10535511395277767745"
     },
     "user_tz": -330
    },
    "id": "JNSQU6Eph4Rj",
    "outputId": "ded95dfb-9238-48a5-ed6e-d8bc8de48f19"
   },
   "outputs": [
    {
     "name": "stdout",
     "output_type": "stream",
     "text": [
      "<class 'pandas.core.frame.DataFrame'>\n",
      "RangeIndex: 768 entries, 0 to 767\n",
      "Data columns (total 9 columns):\n",
      " #   Column                    Non-Null Count  Dtype  \n",
      "---  ------                    --------------  -----  \n",
      " 0   Pregnancies               768 non-null    int64  \n",
      " 1   Glucose                   768 non-null    int64  \n",
      " 2   BloodPressure             768 non-null    int64  \n",
      " 3   SkinThickness             768 non-null    int64  \n",
      " 4   Insulin                   768 non-null    int64  \n",
      " 5   BMI                       768 non-null    float64\n",
      " 6   DiabetesPedigreeFunction  768 non-null    float64\n",
      " 7   Age                       768 non-null    int64  \n",
      " 8   Outcome                   768 non-null    int64  \n",
      "dtypes: float64(2), int64(7)\n",
      "memory usage: 54.1 KB\n",
      "<class 'pandas.core.frame.DataFrame'>\n",
      "RangeIndex: 768 entries, 0 to 767\n",
      "Data columns (total 9 columns):\n",
      " #   Column                    Non-Null Count  Dtype  \n",
      "---  ------                    --------------  -----  \n",
      " 0   Pregnancies               768 non-null    int64  \n",
      " 1   Glucose                   768 non-null    int64  \n",
      " 2   BloodPressure             768 non-null    int64  \n",
      " 3   SkinThickness             768 non-null    int64  \n",
      " 4   Insulin                   768 non-null    int64  \n",
      " 5   BMI                       768 non-null    float64\n",
      " 6   DiabetesPedigreeFunction  768 non-null    float64\n",
      " 7   Age                       768 non-null    int64  \n",
      " 8   Outcome                   768 non-null    int64  \n",
      "dtypes: float64(2), int64(7)\n",
      "memory usage: 54.1 KB\n"
     ]
    },
    {
     "data": {
      "text/plain": [
       "(   Pregnancies  Glucose  BloodPressure  SkinThickness  Insulin   BMI  \\\n",
       " 0            6      148             72             35        0  33.6   \n",
       " 1            1       85             66             29        0  26.6   \n",
       " 2            8      183             64              0        0  23.3   \n",
       " 3            1       89             66             23       94  28.1   \n",
       " 4            0      137             40             35      168  43.1   \n",
       " \n",
       "    DiabetesPedigreeFunction  Age  Outcome  \n",
       " 0                     0.627   50        1  \n",
       " 1                     0.351   31        0  \n",
       " 2                     0.672   32        1  \n",
       " 3                     0.167   21        0  \n",
       " 4                     2.288   33        1  ,\n",
       " None,\n",
       "    Pregnancies  Glucose  BloodPressure  SkinThickness  Insulin   BMI  \\\n",
       " 0            6      148             72             35        0  33.6   \n",
       " 1            1       85             66             29        0  26.6   \n",
       " 2            8      183             64              0        0  23.3   \n",
       " 3            1       89             66             23       94  28.1   \n",
       " 4            0      137             40             35      168  43.1   \n",
       " \n",
       "    DiabetesPedigreeFunction  Age  Outcome  \n",
       " 0                     0.627   50        1  \n",
       " 1                     0.351   31        0  \n",
       " 2                     0.672   32        1  \n",
       " 3                     0.167   21        0  \n",
       " 4                     2.288   33        1  ,\n",
       " None)"
      ]
     },
     "execution_count": 5,
     "metadata": {},
     "output_type": "execute_result"
    }
   ],
   "source": [
    "# Display basic info about the datasets\n",
    "df.head(), df.info(), df.head(), df.info()\n"
   ]
  },
  {
   "cell_type": "code",
   "execution_count": 7,
   "metadata": {
    "colab": {
     "base_uri": "https://localhost:8080/"
    },
    "executionInfo": {
     "elapsed": 359,
     "status": "ok",
     "timestamp": 1746047497996,
     "user": {
      "displayName": "Rutuja Chaudhari",
      "userId": "10535511395277767745"
     },
     "user_tz": -330
    },
    "id": "z2cTr4XIiREq",
    "outputId": "99a6407a-251d-4e6a-e646-4986362acce1"
   },
   "outputs": [
    {
     "data": {
      "text/plain": [
       "[{'Model': 'Logistic Regression',\n",
       "  'Accuracy': 0.747,\n",
       "  'Precision (1)': 0.648,\n",
       "  'Recall (1)': 0.636,\n",
       "  'F1-score (1)': 0.642},\n",
       " {'Model': 'KNN',\n",
       "  'Accuracy': 0.721,\n",
       "  'Precision (1)': 0.615,\n",
       "  'Recall (1)': 0.582,\n",
       "  'F1-score (1)': 0.598},\n",
       " {'Model': 'XGBoost',\n",
       "  'Accuracy': 0.753,\n",
       "  'Precision (1)': 0.644,\n",
       "  'Recall (1)': 0.691,\n",
       "  'F1-score (1)': 0.667}]"
      ]
     },
     "execution_count": 7,
     "metadata": {},
     "output_type": "execute_result"
    }
   ],
   "source": [
    "\n",
    "\n",
    "# --- Diabetes Model ---\n",
    "\n",
    "# Select features and target\n",
    "diabetes_features = df[[\"Glucose\", \"BloodPressure\", \"BMI\", \"Age\"]]\n",
    "diabetes_target = df[\"Outcome\"]\n",
    "\n",
    "# Train-test split\n",
    "X_train_d, X_test_d, y_train_d, y_test_d = train_test_split(\n",
    "    diabetes_features, diabetes_target, test_size=0.2, random_state=42\n",
    ")\n",
    "\n",
    "# Scale the features\n",
    "scaler_d = StandardScaler()\n",
    "X_train_d_scaled = scaler_d.fit_transform(X_train_d)\n",
    "X_test_d_scaled = scaler_d.transform(X_test_d)\n",
    "\n",
    "# Train models\n",
    "log_reg_d = LogisticRegression().fit(X_train_d_scaled, y_train_d)\n",
    "knn_d = KNeighborsClassifier().fit(X_train_d_scaled, y_train_d)\n",
    "xgb_d = GradientBoostingClassifier().fit(X_train_d_scaled, y_train_d)\n",
    "\n",
    "# Evaluate\n",
    "log_pred_d = log_reg_d.predict(X_test_d_scaled)\n",
    "knn_pred_d = knn_d.predict(X_test_d_scaled)\n",
    "xgb_pred_d = xgb_d.predict(X_test_d_scaled)\n",
    "\n",
    "log_report = classification_report(y_test_d, log_pred_d, output_dict=True)\n",
    "knn_report = classification_report(y_test_d, knn_pred_d, output_dict=True)\n",
    "xgb_report = classification_report(y_test_d, xgb_pred_d, output_dict=True)\n",
    "\n",
    "log_report[\"model\"] = \"Logistic Regression\"\n",
    "knn_report[\"model\"] = \"KNN\"\n",
    "xgb_report[\"model\"] = \"XGBoost\"\n",
    "\n",
    "# Summary reports\n",
    "model_reports = [log_report, knn_report, xgb_report]\n",
    "model_reports_summary = [\n",
    "    {\n",
    "        \"Model\": r[\"model\"],\n",
    "        \"Accuracy\": round(r[\"accuracy\"], 3),\n",
    "        \"Precision (1)\": round(r[\"1\"][\"precision\"], 3),\n",
    "        \"Recall (1)\": round(r[\"1\"][\"recall\"], 3),\n",
    "        \"F1-score (1)\": round(r[\"1\"][\"f1-score\"], 3)\n",
    "    }\n",
    "    for r in model_reports\n",
    "]\n",
    "\n",
    "model_reports_summary\n"
   ]
  },
  {
   "cell_type": "code",
   "execution_count": 10,
   "metadata": {
    "executionInfo": {
     "elapsed": 3,
     "status": "ok",
     "timestamp": 1746048082758,
     "user": {
      "displayName": "Rutuja Chaudhari",
      "userId": "10535511395277767745"
     },
     "user_tz": -330
    },
    "id": "ltJ5bOsJk1O7"
   },
   "outputs": [],
   "source": [
    "def interpret_risk(probability):\n",
    "    \"\"\"\n",
    "    Converts predicted probability into risk category.\n",
    "    \"\"\"\n",
    "    if probability >= 0.7:\n",
    "        return \"High Risk\"\n",
    "    elif probability >= 0.4:\n",
    "        return \"Medium Risk\"\n",
    "    else:\n",
    "        return \"Low Risk\"\n"
   ]
  },
  {
   "cell_type": "code",
   "execution_count": 11,
   "metadata": {
    "colab": {
     "base_uri": "https://localhost:8080/"
    },
    "executionInfo": {
     "elapsed": 44,
     "status": "ok",
     "timestamp": 1746048102449,
     "user": {
      "displayName": "Rutuja Chaudhari",
      "userId": "10535511395277767745"
     },
     "user_tz": -330
    },
    "id": "g9-PpRmOk2ye",
    "outputId": "ed2d84dc-d1a2-43d1-d149-77b7436da014"
   },
   "outputs": [
    {
     "name": "stdout",
     "output_type": "stream",
     "text": [
      "Predicted Probability of Diabetes: 0.74\n",
      "Risk Level: High Risk\n"
     ]
    },
    {
     "name": "stderr",
     "output_type": "stream",
     "text": [
      "/usr/local/lib/python3.11/dist-packages/sklearn/utils/validation.py:2739: UserWarning: X does not have valid feature names, but StandardScaler was fitted with feature names\n",
      "  warnings.warn(\n"
     ]
    }
   ],
   "source": [
    "# Sample patient input\n",
    "sample = [[130, 85, 32.0, 45]]  # [Glucose, BP, BMI, Age]\n",
    "sample_scaled = scaler_d.transform(sample)\n",
    "\n",
    "# Predict using best model (e.g., XGBoost)\n",
    "prob = xgb_d.predict_proba(sample_scaled)[0][1]  # probability of class 1 (diabetic)\n",
    "risk = interpret_risk(prob)\n",
    "\n",
    "print(f\"Predicted Probability of Diabetes: {round(prob, 2)}\")\n",
    "print(f\"Risk Level: {risk}\")\n"
   ]
  },
  {
   "cell_type": "code",
   "execution_count": null,
   "id": "a36612cf",
   "metadata": {},
   "outputs": [],
   "source": [
    "\n",
    "# ✅ Save trained model using joblib\n",
    "import joblib\n",
    "\n",
    "# Replace 'model' with your actual trained model variable name\n",
    "joblib.dump(model, 'diabetes_model.pkl')\n",
    "\n",
    "# ✅ Optional: Download the saved model file\n",
    "from google.colab import files\n",
    "files.download('diabetes_model.pkl')\n"
   ]
  }
 ],
 "metadata": {
  "colab": {
   "authorship_tag": "ABX9TyM6aCMdGZToYrwYssdGfiY4",
   "provenance": [
    {
     "file_id": "1c3p6cvd9RDbDiJ5oUilkVtSfEOpjgqzx",
     "timestamp": 1746029518749
    }
   ]
  },
  "kernelspec": {
   "display_name": "Python 3",
   "name": "python3"
  },
  "language_info": {
   "name": "python"
  }
 },
 "nbformat": 4,
 "nbformat_minor": 0
}
